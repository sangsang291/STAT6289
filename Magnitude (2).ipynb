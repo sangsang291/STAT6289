{
  "nbformat": 4,
  "nbformat_minor": 0,
  "metadata": {
    "colab": {
      "name": "Magnitude.ipynb",
      "provenance": [],
      "collapsed_sections": []
    },
    "kernelspec": {
      "name": "python3",
      "display_name": "Python 3"
    }
  },
  "cells": [
    {
      "cell_type": "code",
      "metadata": {
        "id": "kPxYsq_W730e",
        "colab": {
          "base_uri": "https://localhost:8080/"
        },
        "outputId": "c716f77e-293d-4d5f-99a2-786744417f6b"
      },
      "source": [
        "! echo \"Installing Magnitude.... (please wait, can take a while)\"\n",
        "! (curl https://raw.githubusercontent.com/plasticityai/magnitude/master/install-colab.sh | /bin/bash 1>/dev/null 2>/dev/null)\n",
        "! echo \"Done installing Magnitude.\""
      ],
      "execution_count": 5,
      "outputs": [
        {
          "output_type": "stream",
          "text": [
            "Installing Magnitude.... (please wait, can take a while)\n",
            "  % Total    % Received % Xferd  Average Speed   Time    Time     Time  Current\n",
            "                                 Dload  Upload   Total   Spent    Left  Speed\n",
            "100   137  100   137    0     0   1876      0 --:--:-- --:--:-- --:--:--  1876\n",
            "Done installing Magnitude.\n"
          ],
          "name": "stdout"
        }
      ]
    },
    {
      "cell_type": "code",
      "metadata": {
        "id": "Mn6yzlwL8hJY"
      },
      "source": [
        "from pymagnitude import *\n",
        "\n",
        "file_path = \"/content/drive/MyDrive/GoogleNews-vectors-negative300.magnitude\"\n",
        "vectors = Magnitude(file_path)"
      ],
      "execution_count": 6,
      "outputs": []
    },
    {
      "cell_type": "code",
      "metadata": {
        "id": "CzndgdGZ-Jim",
        "colab": {
          "base_uri": "https://localhost:8080/"
        },
        "outputId": "3a7b95c4-0098-421e-e586-d25d4694f675"
      },
      "source": [
        "#What is the dimensionality of these word embeddings?\n",
        "print(vectors.dim)"
      ],
      "execution_count": 9,
      "outputs": [
        {
          "output_type": "stream",
          "text": [
            "300\n"
          ],
          "name": "stdout"
        }
      ]
    },
    {
      "cell_type": "code",
      "metadata": {
        "id": "D8ScxK4y-P9Z",
        "colab": {
          "base_uri": "https://localhost:8080/"
        },
        "outputId": "858822aa-e730-4aaa-9fbb-fe1a8c257e5c"
      },
      "source": [
        "#What are the top-5 most similar words to picnic (not including picnic itself)?\n",
        "vectors.most_similar(\"picnic\", topn = 6) # Most similar by key\n",
        "vectors.most_similar(vectors.query(\"picnic\"), topn = 6) # Most similar by vector\n"
      ],
      "execution_count": null,
      "outputs": [
        {
          "output_type": "execute_result",
          "data": {
            "text/plain": [
              "[('picnic', 0.9999998),\n",
              " ('picnics', 0.7400875),\n",
              " ('picnic_lunch', 0.721374),\n",
              " ('Picnic', 0.700534),\n",
              " ('potluck_picnic', 0.6683274),\n",
              " ('picnic_supper', 0.65189123)]"
            ]
          },
          "metadata": {
            "tags": []
          },
          "execution_count": 8
        }
      ]
    },
    {
      "cell_type": "code",
      "metadata": {
        "id": "Y8Bslnrv-j_e",
        "colab": {
          "base_uri": "https://localhost:8080/",
          "height": 35
        },
        "outputId": "32422166-1c10-4f80-a4e0-56d392a9d9ab"
      },
      "source": [
        "#According to the word embeddings, which of these words is not like the others? ['tissue', 'papyrus', 'manila', 'newsprint', 'parchment', 'gazette']\n",
        "vectors.doesnt_match([\"tissue\", \"papyrus\", \"manila\", \"newsprint\", \"parchment\", \"gazette\"]) "
      ],
      "execution_count": null,
      "outputs": [
        {
          "output_type": "execute_result",
          "data": {
            "application/vnd.google.colaboratory.intrinsic+json": {
              "type": "string"
            },
            "text/plain": [
              "'tissue'"
            ]
          },
          "metadata": {
            "tags": []
          },
          "execution_count": 16
        }
      ]
    },
    {
      "cell_type": "code",
      "metadata": {
        "id": "QEwL8EIoABwU",
        "colab": {
          "base_uri": "https://localhost:8080/"
        },
        "outputId": "f719d100-0bc0-47e5-eab4-ce02816dbbb2"
      },
      "source": [
        "#Solve the following analogy: leg is to jump as X is to throw\n",
        "vectors.most_similar(positive = [\"jump\", \"leg\"], negative = [\"throw\"]) # queen"
      ],
      "execution_count": null,
      "outputs": [
        {
          "output_type": "execute_result",
          "data": {
            "text/plain": [
              "[('legs', 0.45747823),\n",
              " ('thigh', 0.4567529),\n",
              " ('cervical_vertebra', 0.42476428),\n",
              " ('vertabra', 0.4221363),\n",
              " ('fibula', 0.42016602),\n",
              " ('pelvis', 0.41983044),\n",
              " ('achilles_tendon', 0.41773537),\n",
              " ('thoracic_vertebra', 0.4140833),\n",
              " ('ankle', 0.40969262),\n",
              " ('C7_vertebra', 0.40824115)]"
            ]
          },
          "metadata": {
            "tags": []
          },
          "execution_count": 10
        }
      ]
    },
    {
      "cell_type": "code",
      "metadata": {
        "colab": {
          "base_uri": "https://localhost:8080/"
        },
        "id": "onARbvlTVA1-",
        "outputId": "bfaf598d-9ea2-457d-db77-798b3c505d75"
      },
      "source": [
        "vectors.most_similar(positive = [\"throw\", \"leg\"], negative = [\"jump\"]) "
      ],
      "execution_count": 11,
      "outputs": [
        {
          "output_type": "execute_result",
          "data": {
            "text/plain": [
              "[('forearm', 0.48294652),\n",
              " ('shin', 0.47376165),\n",
              " ('elbow', 0.4679689),\n",
              " ('metacarpal_bone', 0.46781474),\n",
              " ('metacarpal_bones', 0.46605822),\n",
              " ('ankle', 0.46434426),\n",
              " ('shoulder', 0.46183354),\n",
              " ('thigh', 0.45393682),\n",
              " ('knee', 0.4455707),\n",
              " ('ulna_bone', 0.4423491)]"
            ]
          },
          "metadata": {
            "tags": []
          },
          "execution_count": 11
        }
      ]
    }
  ]
}